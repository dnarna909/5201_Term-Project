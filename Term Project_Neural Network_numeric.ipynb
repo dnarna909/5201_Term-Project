{
  "nbformat": 4,
  "nbformat_minor": 0,
  "metadata": {
    "colab": {
      "name": "Untitled1.ipynb",
      "provenance": [],
      "collapsed_sections": [],
      "authorship_tag": "ABX9TyM1zP8UM5TB3DLJkGJVNkN4",
      "include_colab_link": true
    },
    "kernelspec": {
      "name": "ir",
      "display_name": "R"
    },
    "language_info": {
      "name": "R"
    }
  },
  "cells": [
    {
      "cell_type": "markdown",
      "metadata": {
        "id": "view-in-github",
        "colab_type": "text"
      },
      "source": [
        "<a href=\"https://colab.research.google.com/github/dnarna909/5201_Term-Project/blob/main/Term%20Project_Neural%20Network_numeric.ipynb\" target=\"_parent\"><img src=\"https://colab.research.google.com/assets/colab-badge.svg\" alt=\"Open In Colab\"/></a>"
      ]
    },
    {
      "cell_type": "markdown",
      "metadata": {
        "id": "EvuHjNwUyTzH"
      },
      "source": [
        "# New Section"
      ]
    },
    {
      "cell_type": "code",
      "metadata": {
        "colab": {
          "base_uri": "https://localhost:8080/"
        },
        "id": "7SM3qj6o_bWM",
        "outputId": "827435e4-ffd0-40e7-900f-d0ef52416a80"
      },
      "source": [
        "packageList <- c(\"dplyr\", \"keras\",\"jpeg\", \"ggplot2\", \"rio\")\n",
        "for(package in packageList){\n",
        "  if(!require(package,character.only = TRUE)){\n",
        "    install.packages(package);require(package,character.only = TRUE);}\n",
        "    }"
      ],
      "execution_count": 5,
      "outputs": [
        {
          "output_type": "stream",
          "name": "stderr",
          "text": [
            "Loading required package: dplyr\n",
            "\n",
            "\n",
            "Attaching package: ‘dplyr’\n",
            "\n",
            "\n",
            "The following objects are masked from ‘package:stats’:\n",
            "\n",
            "    filter, lag\n",
            "\n",
            "\n",
            "The following objects are masked from ‘package:base’:\n",
            "\n",
            "    intersect, setdiff, setequal, union\n",
            "\n",
            "\n",
            "Loading required package: keras\n",
            "\n",
            "Warning message in library(package, lib.loc = lib.loc, character.only = TRUE, logical.return = TRUE, :\n",
            "“there is no package called ‘keras’”\n",
            "Installing package into ‘/usr/local/lib/R/site-library’\n",
            "(as ‘lib’ is unspecified)\n",
            "\n",
            "also installing the dependencies ‘here’, ‘png’, ‘config’, ‘tfautograph’, ‘reticulate’, ‘tensorflow’, ‘tfruns’, ‘zeallot’\n",
            "\n",
            "\n",
            "Loading required package: keras\n",
            "\n",
            "Loading required package: jpeg\n",
            "\n",
            "Warning message in library(package, lib.loc = lib.loc, character.only = TRUE, logical.return = TRUE, :\n",
            "“there is no package called ‘jpeg’”\n",
            "Installing package into ‘/usr/local/lib/R/site-library’\n",
            "(as ‘lib’ is unspecified)\n",
            "\n",
            "Loading required package: jpeg\n",
            "\n",
            "Loading required package: ggplot2\n",
            "\n",
            "Loading required package: rio\n",
            "\n",
            "Warning message in library(package, lib.loc = lib.loc, character.only = TRUE, logical.return = TRUE, :\n",
            "“there is no package called ‘rio’”\n",
            "Installing package into ‘/usr/local/lib/R/site-library’\n",
            "(as ‘lib’ is unspecified)\n",
            "\n",
            "also installing the dependency ‘openxlsx’\n",
            "\n",
            "\n",
            "Loading required package: rio\n",
            "\n"
          ]
        }
      ]
    },
    {
      "cell_type": "code",
      "metadata": {
        "colab": {
          "base_uri": "https://localhost:8080/",
          "height": 382
        },
        "id": "XnuMAhA3_F_N",
        "outputId": "9c7cf130-d374-45f7-f5b0-d7a4623051fa"
      },
      "source": [
        "df <- read.csv(\"NHANES for ML.csv\", row.names=1)\n",
        "# table(df$HbA1c)\n",
        "colnames(df)\n",
        "table(df$diagnosed.diabetes)\n",
        "table(df$diagnosed.kidney.disease)\n",
        "table(df$diagnosed.diabetes, df$diagnosed.kidney.disease, dnn = list(\"diabetes\", \"kidney.disease\"))\n",
        "table(df$KIQ022)\n",
        "table(df$DIQ010)\n",
        "# table(df$URDACT)\n",
        "table(df$PA_level)"
      ],
      "execution_count": 3,
      "outputs": [
        {
          "output_type": "display_data",
          "data": {
            "text/plain": [
              " [1] \"Study.ID\"                 \"RIAGENDR\"                \n",
              " [3] \"RIDAGEYR\"                 \"DMDEDUC2\"                \n",
              " [5] \"INDFMPIR\"                 \"HbA1c\"                   \n",
              " [7] \"DIQ010\"                   \"diagnosed.diabetes\"      \n",
              " [9] \"KIQ022\"                   \"URDACT\"                  \n",
              "[11] \"diagnosed.kidney.disease\" \"Work.VPA.MIN\"            \n",
              "[13] \"Recreational.VPA.MIN\"     \"Work.MPA.MIN\"            \n",
              "[15] \"Recreational.MIN\"         \"Transport.MIN\"           \n",
              "[17] \"total_MIN\"                \"PA_level\"                \n",
              "[19] \"BMXWT\"                    \"BMXBMI\"                  "
            ],
            "text/latex": "\\begin{enumerate*}\n\\item 'Study.ID'\n\\item 'RIAGENDR'\n\\item 'RIDAGEYR'\n\\item 'DMDEDUC2'\n\\item 'INDFMPIR'\n\\item 'HbA1c'\n\\item 'DIQ010'\n\\item 'diagnosed.diabetes'\n\\item 'KIQ022'\n\\item 'URDACT'\n\\item 'diagnosed.kidney.disease'\n\\item 'Work.VPA.MIN'\n\\item 'Recreational.VPA.MIN'\n\\item 'Work.MPA.MIN'\n\\item 'Recreational.MIN'\n\\item 'Transport.MIN'\n\\item 'total\\_MIN'\n\\item 'PA\\_level'\n\\item 'BMXWT'\n\\item 'BMXBMI'\n\\end{enumerate*}\n",
            "text/markdown": "1. 'Study.ID'\n2. 'RIAGENDR'\n3. 'RIDAGEYR'\n4. 'DMDEDUC2'\n5. 'INDFMPIR'\n6. 'HbA1c'\n7. 'DIQ010'\n8. 'diagnosed.diabetes'\n9. 'KIQ022'\n10. 'URDACT'\n11. 'diagnosed.kidney.disease'\n12. 'Work.VPA.MIN'\n13. 'Recreational.VPA.MIN'\n14. 'Work.MPA.MIN'\n15. 'Recreational.MIN'\n16. 'Transport.MIN'\n17. 'total_MIN'\n18. 'PA_level'\n19. 'BMXWT'\n20. 'BMXBMI'\n\n\n",
            "text/html": [
              "<style>\n",
              ".list-inline {list-style: none; margin:0; padding: 0}\n",
              ".list-inline>li {display: inline-block}\n",
              ".list-inline>li:not(:last-child)::after {content: \"\\00b7\"; padding: 0 .5ex}\n",
              "</style>\n",
              "<ol class=list-inline><li>'Study.ID'</li><li>'RIAGENDR'</li><li>'RIDAGEYR'</li><li>'DMDEDUC2'</li><li>'INDFMPIR'</li><li>'HbA1c'</li><li>'DIQ010'</li><li>'diagnosed.diabetes'</li><li>'KIQ022'</li><li>'URDACT'</li><li>'diagnosed.kidney.disease'</li><li>'Work.VPA.MIN'</li><li>'Recreational.VPA.MIN'</li><li>'Work.MPA.MIN'</li><li>'Recreational.MIN'</li><li>'Transport.MIN'</li><li>'total_MIN'</li><li>'PA_level'</li><li>'BMXWT'</li><li>'BMXBMI'</li></ol>\n"
            ]
          },
          "metadata": {}
        },
        {
          "output_type": "display_data",
          "data": {
            "text/plain": [
              "\n",
              "    0     1 \n",
              "21788  4104 "
            ]
          },
          "metadata": {}
        },
        {
          "output_type": "display_data",
          "data": {
            "text/plain": [
              "\n",
              "    0     1 \n",
              "25047   845 "
            ]
          },
          "metadata": {}
        },
        {
          "output_type": "display_data",
          "data": {
            "text/plain": [
              "        kidney.disease\n",
              "diabetes     0     1\n",
              "       0 21292   496\n",
              "       1  3755   349"
            ]
          },
          "metadata": {}
        },
        {
          "output_type": "display_data",
          "data": {
            "text/plain": [
              "\n",
              "    1     2 \n",
              "  845 25047 "
            ]
          },
          "metadata": {}
        },
        {
          "output_type": "display_data",
          "data": {
            "text/plain": [
              "\n",
              "    1     2     3 \n",
              " 3452 21788   652 "
            ]
          },
          "metadata": {}
        },
        {
          "output_type": "display_data",
          "data": {
            "text/plain": [
              "\n",
              "     Active    Inactive Very Active \n",
              "       3291       10756       11845 "
            ]
          },
          "metadata": {}
        }
      ]
    },
    {
      "cell_type": "code",
      "metadata": {
        "colab": {
          "base_uri": "https://localhost:8080/",
          "height": 610
        },
        "id": "NoicNgEr_V5_",
        "outputId": "f456addd-01d7-4510-9c4b-28960474ac43"
      },
      "source": [
        "dim(df)\n",
        "# create selection dataframe for columns to avoid NA\n",
        "selection <- sapply(df, function(xx) {c(\"Missing.numbers\" = sum(is.na(xx)), \n",
        "                             \"Missing.percentage\" = sum(is.na(xx))/nrow(df),\n",
        "                             \"Is.numeric\" = is.numeric(xx),  \n",
        "                             \"Median.values\" = ifelse( is.numeric(xx), median(xx, na.rm = TRUE), 999999999) ) }) %>% \n",
        "  t %>% as.data.frame() %>% add_rownames \n",
        "hist(selection$Missing.percentage, breaks = 200)\n",
        "\n",
        "select.names <- subset(selection, Missing.percentage < 0.1 & Is.numeric == 1)$rowname # set 10% as the cutting line to select columns\n",
        "select.names\n",
        "character.names <- subset(selection, Is.numeric == 0)$rowname \n",
        "character.names\n",
        "df1 <- df[, c(character.names, select.names)] \n",
        "\n",
        "# delete rows with NA vaules\n",
        "df2 <- df1\n",
        "for (col in select.names) {df2 <- subset(df2, !is.na(df2[[col]]))}\n",
        "sum(is.na(df2))"
      ],
      "execution_count": 6,
      "outputs": [
        {
          "output_type": "display_data",
          "data": {
            "text/plain": [
              "[1] 25892    20"
            ],
            "text/latex": "\\begin{enumerate*}\n\\item 25892\n\\item 20\n\\end{enumerate*}\n",
            "text/markdown": "1. 25892\n2. 20\n\n\n",
            "text/html": [
              "<style>\n",
              ".list-inline {list-style: none; margin:0; padding: 0}\n",
              ".list-inline>li {display: inline-block}\n",
              ".list-inline>li:not(:last-child)::after {content: \"\\00b7\"; padding: 0 .5ex}\n",
              "</style>\n",
              "<ol class=list-inline><li>25892</li><li>20</li></ol>\n"
            ]
          },
          "metadata": {}
        },
        {
          "output_type": "stream",
          "name": "stderr",
          "text": [
            "Warning message:\n",
            "“`add_rownames()` was deprecated in dplyr 1.0.0.\n",
            "Please use `tibble::rownames_to_column()` instead.\n",
            "\u001b[90mThis warning is displayed once every 8 hours.\u001b[39m\n",
            "\u001b[90mCall `lifecycle::last_lifecycle_warnings()` to see where this warning was generated.\u001b[39m”\n"
          ]
        },
        {
          "output_type": "display_data",
          "data": {
            "text/plain": [
              " [1] \"Study.ID\"                 \"RIAGENDR\"                \n",
              " [3] \"RIDAGEYR\"                 \"DMDEDUC2\"                \n",
              " [5] \"INDFMPIR\"                 \"HbA1c\"                   \n",
              " [7] \"DIQ010\"                   \"diagnosed.diabetes\"      \n",
              " [9] \"KIQ022\"                   \"URDACT\"                  \n",
              "[11] \"diagnosed.kidney.disease\" \"Work.VPA.MIN\"            \n",
              "[13] \"Recreational.VPA.MIN\"     \"Work.MPA.MIN\"            \n",
              "[15] \"Recreational.MIN\"         \"Transport.MIN\"           \n",
              "[17] \"total_MIN\"                \"BMXWT\"                   \n",
              "[19] \"BMXBMI\"                  "
            ],
            "text/latex": "\\begin{enumerate*}\n\\item 'Study.ID'\n\\item 'RIAGENDR'\n\\item 'RIDAGEYR'\n\\item 'DMDEDUC2'\n\\item 'INDFMPIR'\n\\item 'HbA1c'\n\\item 'DIQ010'\n\\item 'diagnosed.diabetes'\n\\item 'KIQ022'\n\\item 'URDACT'\n\\item 'diagnosed.kidney.disease'\n\\item 'Work.VPA.MIN'\n\\item 'Recreational.VPA.MIN'\n\\item 'Work.MPA.MIN'\n\\item 'Recreational.MIN'\n\\item 'Transport.MIN'\n\\item 'total\\_MIN'\n\\item 'BMXWT'\n\\item 'BMXBMI'\n\\end{enumerate*}\n",
            "text/markdown": "1. 'Study.ID'\n2. 'RIAGENDR'\n3. 'RIDAGEYR'\n4. 'DMDEDUC2'\n5. 'INDFMPIR'\n6. 'HbA1c'\n7. 'DIQ010'\n8. 'diagnosed.diabetes'\n9. 'KIQ022'\n10. 'URDACT'\n11. 'diagnosed.kidney.disease'\n12. 'Work.VPA.MIN'\n13. 'Recreational.VPA.MIN'\n14. 'Work.MPA.MIN'\n15. 'Recreational.MIN'\n16. 'Transport.MIN'\n17. 'total_MIN'\n18. 'BMXWT'\n19. 'BMXBMI'\n\n\n",
            "text/html": [
              "<style>\n",
              ".list-inline {list-style: none; margin:0; padding: 0}\n",
              ".list-inline>li {display: inline-block}\n",
              ".list-inline>li:not(:last-child)::after {content: \"\\00b7\"; padding: 0 .5ex}\n",
              "</style>\n",
              "<ol class=list-inline><li>'Study.ID'</li><li>'RIAGENDR'</li><li>'RIDAGEYR'</li><li>'DMDEDUC2'</li><li>'INDFMPIR'</li><li>'HbA1c'</li><li>'DIQ010'</li><li>'diagnosed.diabetes'</li><li>'KIQ022'</li><li>'URDACT'</li><li>'diagnosed.kidney.disease'</li><li>'Work.VPA.MIN'</li><li>'Recreational.VPA.MIN'</li><li>'Work.MPA.MIN'</li><li>'Recreational.MIN'</li><li>'Transport.MIN'</li><li>'total_MIN'</li><li>'BMXWT'</li><li>'BMXBMI'</li></ol>\n"
            ]
          },
          "metadata": {}
        },
        {
          "output_type": "display_data",
          "data": {
            "text/plain": [
              "[1] \"PA_level\""
            ],
            "text/latex": "'PA\\_level'",
            "text/markdown": "'PA_level'",
            "text/html": [
              "'PA_level'"
            ]
          },
          "metadata": {}
        },
        {
          "output_type": "display_data",
          "data": {
            "text/plain": [
              "[1] 0"
            ],
            "text/latex": "0",
            "text/markdown": "0",
            "text/html": [
              "0"
            ]
          },
          "metadata": {}
        },
        {
          "output_type": "display_data",
          "data": {
            "image/png": "[encoded data removed]",
            "text/plain": [
              "Plot with title “Histogram of selection$Missing.percentage”"
            ]
          },
          "metadata": {
            "image/png": {
              "width": 420,
              "height": 420
            }
          }
        }
      ]
    },
    {
      "cell_type": "code",
      "metadata": {
        "id": "PTPL1pNiAQ9G"
      },
      "source": [
        "# Step 1.Set up the data\n",
        "# 1/3 is test and the rest are training\n",
        "n <- nrow(df2)\n",
        "set.seed (13)\n",
        "ntest <- trunc(n / 3)\n",
        "testid <- sample (1:n, ntest)"
      ],
      "execution_count": 7,
      "outputs": []
    },
    {
      "cell_type": "code",
      "metadata": {
        "colab": {
          "base_uri": "https://localhost:8080/",
          "height": 34
        },
        "id": "KzxyF8FIAXLy",
        "outputId": "dd4f5b09-da12-4a5c-ff0c-eca9a75b8b06"
      },
      "source": [
        "# Step 2.Create x and y\n",
        "x <- model.matrix(HbA1c ~ . - 1, data = df2) %>% scale () # long time running\n",
        "dim(x)\n",
        "x_train <- array(x[-testid , ], dim = c(dim(x[-testid , ])[1], dim(x[-testid , ])[2]))\n",
        "x_test <- array(x[testid , ], dim = c(dim(x[testid , ])[1], dim(x[testid , ])[2]))\n",
        "\n",
        "y <- df2$diagnosed.diabetes\n",
        "g_train <- y[-testid]\n",
        "g_test <- y[testid]\n",
        "y_train <- to_categorical(g_train, length(unique(y)))\n",
        "y_test <- to_categorical(g_test , length(unique(y)))\n"
      ],
      "execution_count": 36,
      "outputs": [
        {
          "output_type": "display_data",
          "data": {
            "text/plain": [
              "[1] 23217    21"
            ],
            "text/latex": "\\begin{enumerate*}\n\\item 23217\n\\item 21\n\\end{enumerate*}\n",
            "text/markdown": "1. 23217\n2. 21\n\n\n",
            "text/html": [
              "<style>\n",
              ".list-inline {list-style: none; margin:0; padding: 0}\n",
              ".list-inline>li {display: inline-block}\n",
              ".list-inline>li:not(:last-child)::after {content: \"\\00b7\"; padding: 0 .5ex}\n",
              "</style>\n",
              "<ol class=list-inline><li>23217</li><li>21</li></ol>\n"
            ]
          },
          "metadata": {}
        }
      ]
    },
    {
      "cell_type": "code",
      "metadata": {
        "colab": {
          "base_uri": "https://localhost:8080/",
          "height": 69
        },
        "id": "ZY3dDAepDwNv",
        "outputId": "c0d3b707-0df1-40d0-8289-fa03b19031b0"
      },
      "source": [
        "#Step 3.Linear regression\n",
        "lfit <- lm(HbA1c ~ ., data = df2[-testid , ])\n",
        "lpred <- predict(lfit , df2[testid , ])\n",
        "with(df2[testid , ], mean(abs(lpred - HbA1c))) # method 2"
      ],
      "execution_count": 37,
      "outputs": [
        {
          "output_type": "stream",
          "name": "stderr",
          "text": [
            "Warning message in predict.lm(lfit, df2[testid, ]):\n",
            "“prediction from a rank-deficient fit may be misleading”\n"
          ]
        },
        {
          "output_type": "display_data",
          "data": {
            "text/plain": [
              "[1] 0.4721138"
            ],
            "text/latex": "0.47211382748772",
            "text/markdown": "0.47211382748772",
            "text/html": [
              "0.47211382748772"
            ]
          },
          "metadata": {}
        }
      ]
    },
    {
      "cell_type": "code",
      "metadata": {
        "id": "LGiCSlVAGFi_"
      },
      "source": [
        "modnn <- keras_model_sequential () %>%\n",
        "  layer_dense(units = round(max(x)), activation = \"relu\",\n",
        "              input_shape = ncol(x)) %>%\n",
        "  layer_dropout(rate = 0.4)  %>%\n",
        "  layer_dense(units = round(max(x))/2, activation = \"relu\" ) %>%\n",
        "  layer_dropout(rate = 0.3)  %>%\n",
        "  layer_dense(units = 1)\n",
        "\n",
        "modnn %>% compile(loss = \"mse\",\n",
        "                  optimizer = optimizer_rmsprop (),\n",
        "                  metrics = list(\"mean_absolute_error\")\n",
        ")"
      ],
      "execution_count": 54,
      "outputs": []
    },
    {
      "cell_type": "code",
      "metadata": {
        "id": "G9-3LQrTGLlM"
      },
      "source": [
        "history <- modnn %>% fit(\n",
        "  x_train, y_train, epochs = 150, batch_size = (max(x_train)/2),\n",
        "  validation_data = list(x_test , y_test)\n",
        ")"
      ],
      "execution_count": 51,
      "outputs": []
    },
    {
      "cell_type": "code",
      "metadata": {
        "colab": {
          "base_uri": "https://localhost:8080/",
          "height": 437
        },
        "id": "fuBx0AUAaLgZ",
        "outputId": "f792329f-de57-4e34-8382-0e1be37081d6"
      },
      "source": [
        "plot(history , smooth = FALSE)"
      ],
      "execution_count": 52,
      "outputs": [
        {
          "output_type": "display_data",
          "data": {
            "image/png": "[encoded data removed]",
            "text/plain": [
              "plot without title"
            ]
          },
          "metadata": {
            "image/png": {
              "width": 420,
              "height": 420
            }
          }
        }
      ]
    },
    {
      "cell_type": "code",
      "metadata": {
        "colab": {
          "base_uri": "https://localhost:8080/",
          "height": 52
        },
        "id": "WxZ83Mp_GQSQ",
        "outputId": "41a4d815-5583-456a-8b81-7761faa893bd"
      },
      "source": [
        "npred <- predict(modnn , x[testid , ])\n",
        "mean(abs(y[testid] - npred))\n",
        "\n",
        "npred <- predict(modnn , x[-testid , ])\n",
        "mean(abs(y[-testid] - npred))"
      ],
      "execution_count": 53,
      "outputs": [
        {
          "output_type": "display_data",
          "data": {
            "text/plain": [
              "[1] 0.4996526"
            ],
            "text/latex": "0.49965255939617",
            "text/markdown": "0.49965255939617",
            "text/html": [
              "0.49965255939617"
            ]
          },
          "metadata": {}
        },
        {
          "output_type": "display_data",
          "data": {
            "text/plain": [
              "[1] 0.4996568"
            ],
            "text/latex": "0.499656775121249",
            "text/markdown": "0.499656775121249",
            "text/html": [
              "0.499656775121249"
            ]
          },
          "metadata": {}
        }
      ]
    }
  ]
}