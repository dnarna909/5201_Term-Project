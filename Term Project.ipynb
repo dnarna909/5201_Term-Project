{
  "nbformat": 4,
  "nbformat_minor": 0,
  "metadata": {
    "colab": {
      "name": "Untitled1.ipynb",
      "provenance": [],
      "authorship_tag": "ABX9TyM0vQ5qh7JV0Z8Mtkvf4rK3",
      "include_colab_link": true
    },
    "kernelspec": {
      "name": "ir",
      "display_name": "R"
    },
    "language_info": {
      "name": "R"
    }
  },
  "cells": [
    {
      "cell_type": "markdown",
      "metadata": {
        "id": "view-in-github",
        "colab_type": "text"
      },
      "source": [
        "<a href=\"https://colab.research.google.com/github/dnarna909/5201_Term-Project/blob/main/Term%20Project.ipynb\" target=\"_parent\"><img src=\"https://colab.research.google.com/assets/colab-badge.svg\" alt=\"Open In Colab\"/></a>"
      ]
    },
    {
      "cell_type": "markdown",
      "metadata": {
        "id": "EvuHjNwUyTzH"
      },
      "source": [
        "# New Section"
      ]
    },
    {
      "cell_type": "code",
      "metadata": {
        "colab": {
          "base_uri": "https://localhost:8080/"
        },
        "id": "7SM3qj6o_bWM",
        "outputId": "827435e4-ffd0-40e7-900f-d0ef52416a80"
      },
      "source": [
        "packageList <- c(\"dplyr\", \"keras\",\"jpeg\", \"ggplot2\", \"rio\")\n",
        "for(package in packageList){\n",
        "  if(!require(package,character.only = TRUE)){\n",
        "    install.packages(package);require(package,character.only = TRUE);}\n",
        "    }"
      ],
      "execution_count": 5,
      "outputs": [
        {
          "output_type": "stream",
          "name": "stderr",
          "text": [
            "Loading required package: dplyr\n",
            "\n",
            "\n",
            "Attaching package: ‘dplyr’\n",
            "\n",
            "\n",
            "The following objects are masked from ‘package:stats’:\n",
            "\n",
            "    filter, lag\n",
            "\n",
            "\n",
            "The following objects are masked from ‘package:base’:\n",
            "\n",
            "    intersect, setdiff, setequal, union\n",
            "\n",
            "\n",
            "Loading required package: keras\n",
            "\n",
            "Warning message in library(package, lib.loc = lib.loc, character.only = TRUE, logical.return = TRUE, :\n",
            "“there is no package called ‘keras’”\n",
            "Installing package into ‘/usr/local/lib/R/site-library’\n",
            "(as ‘lib’ is unspecified)\n",
            "\n",
            "also installing the dependencies ‘here’, ‘png’, ‘config’, ‘tfautograph’, ‘reticulate’, ‘tensorflow’, ‘tfruns’, ‘zeallot’\n",
            "\n",
            "\n",
            "Loading required package: keras\n",
            "\n",
            "Loading required package: jpeg\n",
            "\n",
            "Warning message in library(package, lib.loc = lib.loc, character.only = TRUE, logical.return = TRUE, :\n",
            "“there is no package called ‘jpeg’”\n",
            "Installing package into ‘/usr/local/lib/R/site-library’\n",
            "(as ‘lib’ is unspecified)\n",
            "\n",
            "Loading required package: jpeg\n",
            "\n",
            "Loading required package: ggplot2\n",
            "\n",
            "Loading required package: rio\n",
            "\n",
            "Warning message in library(package, lib.loc = lib.loc, character.only = TRUE, logical.return = TRUE, :\n",
            "“there is no package called ‘rio’”\n",
            "Installing package into ‘/usr/local/lib/R/site-library’\n",
            "(as ‘lib’ is unspecified)\n",
            "\n",
            "also installing the dependency ‘openxlsx’\n",
            "\n",
            "\n",
            "Loading required package: rio\n",
            "\n"
          ]
        }
      ]
    },
    {
      "cell_type": "code",
      "metadata": {
        "colab": {
          "base_uri": "https://localhost:8080/",
          "height": 382
        },
        "id": "XnuMAhA3_F_N",
        "outputId": "9c7cf130-d374-45f7-f5b0-d7a4623051fa"
      },
      "source": [
        "df <- read.csv(\"NHANES for ML.csv\", row.names=1)\n",
        "# table(df$HbA1c)\n",
        "colnames(df)\n",
        "table(df$diagnosed.diabetes)\n",
        "table(df$diagnosed.kidney.disease)\n",
        "table(df$diagnosed.diabetes, df$diagnosed.kidney.disease, dnn = list(\"diabetes\", \"kidney.disease\"))\n",
        "table(df$KIQ022)\n",
        "table(df$DIQ010)\n",
        "# table(df$URDACT)\n",
        "table(df$PA_level)"
      ],
      "execution_count": 3,
      "outputs": [
        {
          "output_type": "display_data",
          "data": {
            "text/plain": [
              " [1] \"Study.ID\"                 \"RIAGENDR\"                \n",
              " [3] \"RIDAGEYR\"                 \"DMDEDUC2\"                \n",
              " [5] \"INDFMPIR\"                 \"HbA1c\"                   \n",
              " [7] \"DIQ010\"                   \"diagnosed.diabetes\"      \n",
              " [9] \"KIQ022\"                   \"URDACT\"                  \n",
              "[11] \"diagnosed.kidney.disease\" \"Work.VPA.MIN\"            \n",
              "[13] \"Recreational.VPA.MIN\"     \"Work.MPA.MIN\"            \n",
              "[15] \"Recreational.MIN\"         \"Transport.MIN\"           \n",
              "[17] \"total_MIN\"                \"PA_level\"                \n",
              "[19] \"BMXWT\"                    \"BMXBMI\"                  "
            ],
            "text/latex": "\\begin{enumerate*}\n\\item 'Study.ID'\n\\item 'RIAGENDR'\n\\item 'RIDAGEYR'\n\\item 'DMDEDUC2'\n\\item 'INDFMPIR'\n\\item 'HbA1c'\n\\item 'DIQ010'\n\\item 'diagnosed.diabetes'\n\\item 'KIQ022'\n\\item 'URDACT'\n\\item 'diagnosed.kidney.disease'\n\\item 'Work.VPA.MIN'\n\\item 'Recreational.VPA.MIN'\n\\item 'Work.MPA.MIN'\n\\item 'Recreational.MIN'\n\\item 'Transport.MIN'\n\\item 'total\\_MIN'\n\\item 'PA\\_level'\n\\item 'BMXWT'\n\\item 'BMXBMI'\n\\end{enumerate*}\n",
            "text/markdown": "1. 'Study.ID'\n2. 'RIAGENDR'\n3. 'RIDAGEYR'\n4. 'DMDEDUC2'\n5. 'INDFMPIR'\n6. 'HbA1c'\n7. 'DIQ010'\n8. 'diagnosed.diabetes'\n9. 'KIQ022'\n10. 'URDACT'\n11. 'diagnosed.kidney.disease'\n12. 'Work.VPA.MIN'\n13. 'Recreational.VPA.MIN'\n14. 'Work.MPA.MIN'\n15. 'Recreational.MIN'\n16. 'Transport.MIN'\n17. 'total_MIN'\n18. 'PA_level'\n19. 'BMXWT'\n20. 'BMXBMI'\n\n\n",
            "text/html": [
              "<style>\n",
              ".list-inline {list-style: none; margin:0; padding: 0}\n",
              ".list-inline>li {display: inline-block}\n",
              ".list-inline>li:not(:last-child)::after {content: \"\\00b7\"; padding: 0 .5ex}\n",
              "</style>\n",
              "<ol class=list-inline><li>'Study.ID'</li><li>'RIAGENDR'</li><li>'RIDAGEYR'</li><li>'DMDEDUC2'</li><li>'INDFMPIR'</li><li>'HbA1c'</li><li>'DIQ010'</li><li>'diagnosed.diabetes'</li><li>'KIQ022'</li><li>'URDACT'</li><li>'diagnosed.kidney.disease'</li><li>'Work.VPA.MIN'</li><li>'Recreational.VPA.MIN'</li><li>'Work.MPA.MIN'</li><li>'Recreational.MIN'</li><li>'Transport.MIN'</li><li>'total_MIN'</li><li>'PA_level'</li><li>'BMXWT'</li><li>'BMXBMI'</li></ol>\n"
            ]
          },
          "metadata": {}
        },
        {
          "output_type": "display_data",
          "data": {
            "text/plain": [
              "\n",
              "    0     1 \n",
              "21788  4104 "
            ]
          },
          "metadata": {}
        },
        {
          "output_type": "display_data",
          "data": {
            "text/plain": [
              "\n",
              "    0     1 \n",
              "25047   845 "
            ]
          },
          "metadata": {}
        },
        {
          "output_type": "display_data",
          "data": {
            "text/plain": [
              "        kidney.disease\n",
              "diabetes     0     1\n",
              "       0 21292   496\n",
              "       1  3755   349"
            ]
          },
          "metadata": {}
        },
        {
          "output_type": "display_data",
          "data": {
            "text/plain": [
              "\n",
              "    1     2 \n",
              "  845 25047 "
            ]
          },
          "metadata": {}
        },
        {
          "output_type": "display_data",
          "data": {
            "text/plain": [
              "\n",
              "    1     2     3 \n",
              " 3452 21788   652 "
            ]
          },
          "metadata": {}
        },
        {
          "output_type": "display_data",
          "data": {
            "text/plain": [
              "\n",
              "     Active    Inactive Very Active \n",
              "       3291       10756       11845 "
            ]
          },
          "metadata": {}
        }
      ]
    },
    {
      "cell_type": "code",
      "metadata": {
        "colab": {
          "base_uri": "https://localhost:8080/",
          "height": 610
        },
        "id": "NoicNgEr_V5_",
        "outputId": "f456addd-01d7-4510-9c4b-28960474ac43"
      },
      "source": [
        "dim(df)\n",
        "# create selection dataframe for columns to avoid NA\n",
        "selection <- sapply(df, function(xx) {c(\"Missing.numbers\" = sum(is.na(xx)), \n",
        "                             \"Missing.percentage\" = sum(is.na(xx))/nrow(df),\n",
        "                             \"Is.numeric\" = is.numeric(xx),  \n",
        "                             \"Median.values\" = ifelse( is.numeric(xx), median(xx, na.rm = TRUE), 999999999) ) }) %>% \n",
        "  t %>% as.data.frame() %>% add_rownames \n",
        "hist(selection$Missing.percentage, breaks = 200)\n",
        "\n",
        "select.names <- subset(selection, Missing.percentage < 0.1 & Is.numeric == 1)$rowname # set 10% as the cutting line to select columns\n",
        "select.names\n",
        "character.names <- subset(selection, Is.numeric == 0)$rowname \n",
        "character.names\n",
        "df1 <- df[, c(character.names, select.names)] \n",
        "\n",
        "# delete rows with NA vaules\n",
        "df2 <- df1\n",
        "for (col in select.names) {df2 <- subset(df2, !is.na(df2[[col]]))}\n",
        "sum(is.na(df2))"
      ],
      "execution_count": 6,
      "outputs": [
        {
          "output_type": "display_data",
          "data": {
            "text/plain": [
              "[1] 25892    20"
            ],
            "text/latex": "\\begin{enumerate*}\n\\item 25892\n\\item 20\n\\end{enumerate*}\n",
            "text/markdown": "1. 25892\n2. 20\n\n\n",
            "text/html": [
              "<style>\n",
              ".list-inline {list-style: none; margin:0; padding: 0}\n",
              ".list-inline>li {display: inline-block}\n",
              ".list-inline>li:not(:last-child)::after {content: \"\\00b7\"; padding: 0 .5ex}\n",
              "</style>\n",
              "<ol class=list-inline><li>25892</li><li>20</li></ol>\n"
            ]
          },
          "metadata": {}
        },
        {
          "output_type": "stream",
          "name": "stderr",
          "text": [
            "Warning message:\n",
            "“`add_rownames()` was deprecated in dplyr 1.0.0.\n",
            "Please use `tibble::rownames_to_column()` instead.\n",
            "\u001b[90mThis warning is displayed once every 8 hours.\u001b[39m\n",
            "\u001b[90mCall `lifecycle::last_lifecycle_warnings()` to see where this warning was generated.\u001b[39m”\n"
          ]
        },
        {
          "output_type": "display_data",
          "data": {
            "text/plain": [
              " [1] \"Study.ID\"                 \"RIAGENDR\"                \n",
              " [3] \"RIDAGEYR\"                 \"DMDEDUC2\"                \n",
              " [5] \"INDFMPIR\"                 \"HbA1c\"                   \n",
              " [7] \"DIQ010\"                   \"diagnosed.diabetes\"      \n",
              " [9] \"KIQ022\"                   \"URDACT\"                  \n",
              "[11] \"diagnosed.kidney.disease\" \"Work.VPA.MIN\"            \n",
              "[13] \"Recreational.VPA.MIN\"     \"Work.MPA.MIN\"            \n",
              "[15] \"Recreational.MIN\"         \"Transport.MIN\"           \n",
              "[17] \"total_MIN\"                \"BMXWT\"                   \n",
              "[19] \"BMXBMI\"                  "
            ],
            "text/latex": "\\begin{enumerate*}\n\\item 'Study.ID'\n\\item 'RIAGENDR'\n\\item 'RIDAGEYR'\n\\item 'DMDEDUC2'\n\\item 'INDFMPIR'\n\\item 'HbA1c'\n\\item 'DIQ010'\n\\item 'diagnosed.diabetes'\n\\item 'KIQ022'\n\\item 'URDACT'\n\\item 'diagnosed.kidney.disease'\n\\item 'Work.VPA.MIN'\n\\item 'Recreational.VPA.MIN'\n\\item 'Work.MPA.MIN'\n\\item 'Recreational.MIN'\n\\item 'Transport.MIN'\n\\item 'total\\_MIN'\n\\item 'BMXWT'\n\\item 'BMXBMI'\n\\end{enumerate*}\n",
            "text/markdown": "1. 'Study.ID'\n2. 'RIAGENDR'\n3. 'RIDAGEYR'\n4. 'DMDEDUC2'\n5. 'INDFMPIR'\n6. 'HbA1c'\n7. 'DIQ010'\n8. 'diagnosed.diabetes'\n9. 'KIQ022'\n10. 'URDACT'\n11. 'diagnosed.kidney.disease'\n12. 'Work.VPA.MIN'\n13. 'Recreational.VPA.MIN'\n14. 'Work.MPA.MIN'\n15. 'Recreational.MIN'\n16. 'Transport.MIN'\n17. 'total_MIN'\n18. 'BMXWT'\n19. 'BMXBMI'\n\n\n",
            "text/html": [
              "<style>\n",
              ".list-inline {list-style: none; margin:0; padding: 0}\n",
              ".list-inline>li {display: inline-block}\n",
              ".list-inline>li:not(:last-child)::after {content: \"\\00b7\"; padding: 0 .5ex}\n",
              "</style>\n",
              "<ol class=list-inline><li>'Study.ID'</li><li>'RIAGENDR'</li><li>'RIDAGEYR'</li><li>'DMDEDUC2'</li><li>'INDFMPIR'</li><li>'HbA1c'</li><li>'DIQ010'</li><li>'diagnosed.diabetes'</li><li>'KIQ022'</li><li>'URDACT'</li><li>'diagnosed.kidney.disease'</li><li>'Work.VPA.MIN'</li><li>'Recreational.VPA.MIN'</li><li>'Work.MPA.MIN'</li><li>'Recreational.MIN'</li><li>'Transport.MIN'</li><li>'total_MIN'</li><li>'BMXWT'</li><li>'BMXBMI'</li></ol>\n"
            ]
          },
          "metadata": {}
        },
        {
          "output_type": "display_data",
          "data": {
            "text/plain": [
              "[1] \"PA_level\""
            ],
            "text/latex": "'PA\\_level'",
            "text/markdown": "'PA_level'",
            "text/html": [
              "'PA_level'"
            ]
          },
          "metadata": {}
        },
        {
          "output_type": "display_data",
          "data": {
            "text/plain": [
              "[1] 0"
            ],
            "text/latex": "0",
            "text/markdown": "0",
            "text/html": [
              "0"
            ]
          },
          "metadata": {}
        },
        {
          "output_type": "display_data",
          "data": {
            "image/png": "[encoded data removed]",
            "text/plain": [
              "Plot with title “Histogram of selection$Missing.percentage”"
            ]
          },
          "metadata": {
            "image/png": {
              "width": 420,
              "height": 420
            }
          }
        }
      ]
    }
  ]
}